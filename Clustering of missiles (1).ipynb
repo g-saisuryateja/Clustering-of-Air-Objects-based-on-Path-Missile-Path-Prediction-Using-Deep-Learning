{
 "cells": [
  {
   "cell_type": "code",
   "execution_count": 1,
   "metadata": {
    "colab": {
     "base_uri": "https://localhost:8080/",
     "height": 72
    },
    "colab_type": "code",
    "executionInfo": {
     "elapsed": 2489,
     "status": "ok",
     "timestamp": 1579952458365,
     "user": {
      "displayName": "Shivam Aggarwal",
      "photoUrl": "",
      "userId": "09581223866808255815"
     },
     "user_tz": -330
    },
    "id": "dre2Iq0BRunj",
    "outputId": "bfaa2c07-a17d-46d6-db97-c05fc11870ae"
   },
   "outputs": [],
   "source": [
    "import pandas as pd\n",
    "import numpy as np\n",
    "from sklearn.preprocessing import MinMaxScaler\n",
    "import joblib"
   ]
  },
  {
   "cell_type": "code",
   "execution_count": 4,
   "metadata": {
    "colab": {},
    "colab_type": "code",
    "id": "VeNYXZqUGa7Z"
   },
   "outputs": [],
   "source": [
    "import pandas as pd\n",
    "path=\"G:\\AIE\\AIE SEM6\\MIS-6\\Project\\CLUSTERING-OF-AIR-OBJECTS-BASED-ON-TRAJECTORY-and-missile-guidance-system-master\\CLUSTERING-OF-AIR-OBJECTS-BASED-ON-TRAJECTORY-and-missile-guidance-system-master\\data\\FinalTrajPred.csv\"\n",
    "df = pd.read_csv(path)\n",
    "#del df['v']\n",
    "del df['t']"
   ]
  },
  {
   "cell_type": "code",
   "execution_count": 5,
   "metadata": {
    "colab": {
     "base_uri": "https://localhost:8080/",
     "height": 34
    },
    "colab_type": "code",
    "executionInfo": {
     "elapsed": 923,
     "status": "ok",
     "timestamp": 1579952461995,
     "user": {
      "displayName": "Shivam Aggarwal",
      "photoUrl": "",
      "userId": "09581223866808255815"
     },
     "user_tz": -330
    },
    "id": "i2HLCpfkR6kM",
    "outputId": "c26637d5-05cc-4115-ef8a-97c07000f462"
   },
   "outputs": [
    {
     "data": {
      "text/plain": [
       "2127"
      ]
     },
     "execution_count": 5,
     "metadata": {},
     "output_type": "execute_result"
    }
   ],
   "source": [
    "flightId = list(set(df.FlightId))\n",
    "len(flightId)"
   ]
  },
  {
   "cell_type": "code",
   "execution_count": 6,
   "metadata": {
    "colab": {},
    "colab_type": "code",
    "id": "ewhNo_TbctHc"
   },
   "outputs": [],
   "source": [
    " from sklearn.model_selection import train_test_split"
   ]
  },
  {
   "cell_type": "code",
   "execution_count": 7,
   "metadata": {
    "colab": {},
    "colab_type": "code",
    "id": "fcVMGgnGdLFA"
   },
   "outputs": [],
   "source": [
    "trainFlight, testFlight = train_test_split(flightId, test_size=0.6, random_state=42)"
   ]
  },
  {
   "cell_type": "code",
   "execution_count": 8,
   "metadata": {
    "colab": {},
    "colab_type": "code",
    "id": "KunOpjPkSFHB"
   },
   "outputs": [],
   "source": [
    "# flightSize = int(len(flightId)*0.7)\n",
    "# trainFlight = flightId[:flightSize]\n",
    "# testFlight  = flightId[flightSize:]"
   ]
  },
  {
   "cell_type": "code",
   "execution_count": 9,
   "metadata": {
    "colab": {},
    "colab_type": "code",
    "id": "OwCZpjPvSG74"
   },
   "outputs": [],
   "source": [
    "trainDf = df[df.FlightId.isin(trainFlight)].copy()\n",
    "trainDf.reset_index(inplace = True,drop=True)\n",
    "testDf = df[df.FlightId.isin(testFlight)].copy()\n",
    "testDf.reset_index(inplace = True,drop=True)"
   ]
  },
  {
   "cell_type": "markdown",
   "metadata": {
    "colab_type": "text",
    "id": "N0eJ_QumSLDH"
   },
   "source": []
  },
  {
   "cell_type": "code",
   "execution_count": 10,
   "metadata": {
    "colab": {},
    "colab_type": "code",
    "id": "5I8ou-WrSI-R"
   },
   "outputs": [],
   "source": [
    "trainId = trainDf['FlightId'].copy()\n",
    "testId = testDf['FlightId'].copy()\n",
    "del trainDf['FlightId']\n",
    "del testDf['FlightId']"
   ]
  },
  {
   "cell_type": "code",
   "execution_count": 11,
   "metadata": {
    "colab": {},
    "colab_type": "code",
    "id": "iCB9dA8HSKx-"
   },
   "outputs": [],
   "source": [
    "Cols  = list(trainDf.columns)"
   ]
  },
  {
   "cell_type": "code",
   "execution_count": 12,
   "metadata": {
    "colab": {},
    "colab_type": "code",
    "id": "WWDL1miCSTJK"
   },
   "outputs": [],
   "source": [
    "scaler = MinMaxScaler(feature_range=(0,1))\n",
    "trainDf[Cols] = scaler.fit_transform(trainDf[Cols])\n",
    "testDf[Cols] = scaler.transform(testDf[Cols])"
   ]
  },
  {
   "cell_type": "code",
   "execution_count": 13,
   "metadata": {
    "colab": {
     "base_uri": "https://localhost:8080/",
     "height": 195
    },
    "colab_type": "code",
    "executionInfo": {
     "elapsed": 857,
     "status": "ok",
     "timestamp": 1579952467960,
     "user": {
      "displayName": "Shivam Aggarwal",
      "photoUrl": "",
      "userId": "09581223866808255815"
     },
     "user_tz": -330
    },
    "id": "t50gD3YdSUkR",
    "outputId": "36fd3eb1-dc47-4126-c171-013c78489ddb"
   },
   "outputs": [
    {
     "data": {
      "text/html": [
       "<div>\n",
       "<style scoped>\n",
       "    .dataframe tbody tr th:only-of-type {\n",
       "        vertical-align: middle;\n",
       "    }\n",
       "\n",
       "    .dataframe tbody tr th {\n",
       "        vertical-align: top;\n",
       "    }\n",
       "\n",
       "    .dataframe thead th {\n",
       "        text-align: right;\n",
       "    }\n",
       "</style>\n",
       "<table border=\"1\" class=\"dataframe\">\n",
       "  <thead>\n",
       "    <tr style=\"text-align: right;\">\n",
       "      <th></th>\n",
       "      <th>x</th>\n",
       "      <th>y</th>\n",
       "      <th>z</th>\n",
       "      <th>v</th>\n",
       "    </tr>\n",
       "  </thead>\n",
       "  <tbody>\n",
       "    <tr>\n",
       "      <th>0</th>\n",
       "      <td>0.399771</td>\n",
       "      <td>0.412193</td>\n",
       "      <td>0.000000</td>\n",
       "      <td>0.329317</td>\n",
       "    </tr>\n",
       "    <tr>\n",
       "      <th>1</th>\n",
       "      <td>0.399778</td>\n",
       "      <td>0.440124</td>\n",
       "      <td>0.698339</td>\n",
       "      <td>0.329317</td>\n",
       "    </tr>\n",
       "    <tr>\n",
       "      <th>2</th>\n",
       "      <td>0.399784</td>\n",
       "      <td>0.441412</td>\n",
       "      <td>0.700690</td>\n",
       "      <td>0.337349</td>\n",
       "    </tr>\n",
       "    <tr>\n",
       "      <th>3</th>\n",
       "      <td>0.399791</td>\n",
       "      <td>0.442712</td>\n",
       "      <td>0.703041</td>\n",
       "      <td>0.345382</td>\n",
       "    </tr>\n",
       "    <tr>\n",
       "      <th>4</th>\n",
       "      <td>0.399797</td>\n",
       "      <td>0.444013</td>\n",
       "      <td>0.705290</td>\n",
       "      <td>0.353414</td>\n",
       "    </tr>\n",
       "  </tbody>\n",
       "</table>\n",
       "</div>"
      ],
      "text/plain": [
       "          x         y         z         v\n",
       "0  0.399771  0.412193  0.000000  0.329317\n",
       "1  0.399778  0.440124  0.698339  0.329317\n",
       "2  0.399784  0.441412  0.700690  0.337349\n",
       "3  0.399791  0.442712  0.703041  0.345382\n",
       "4  0.399797  0.444013  0.705290  0.353414"
      ]
     },
     "execution_count": 13,
     "metadata": {},
     "output_type": "execute_result"
    }
   ],
   "source": [
    "trainDf.head()"
   ]
  },
  {
   "cell_type": "code",
   "execution_count": 14,
   "metadata": {
    "colab": {
     "base_uri": "https://localhost:8080/",
     "height": 195
    },
    "colab_type": "code",
    "executionInfo": {
     "elapsed": 861,
     "status": "ok",
     "timestamp": 1579952469328,
     "user": {
      "displayName": "Shivam Aggarwal",
      "photoUrl": "",
      "userId": "09581223866808255815"
     },
     "user_tz": -330
    },
    "id": "mKkAc30MSWPE",
    "outputId": "beb5390d-da82-4bf5-c2f1-14cd27b3136e"
   },
   "outputs": [
    {
     "data": {
      "text/html": [
       "<div>\n",
       "<style scoped>\n",
       "    .dataframe tbody tr th:only-of-type {\n",
       "        vertical-align: middle;\n",
       "    }\n",
       "\n",
       "    .dataframe tbody tr th {\n",
       "        vertical-align: top;\n",
       "    }\n",
       "\n",
       "    .dataframe thead th {\n",
       "        text-align: right;\n",
       "    }\n",
       "</style>\n",
       "<table border=\"1\" class=\"dataframe\">\n",
       "  <thead>\n",
       "    <tr style=\"text-align: right;\">\n",
       "      <th></th>\n",
       "      <th>x</th>\n",
       "      <th>y</th>\n",
       "      <th>z</th>\n",
       "      <th>v</th>\n",
       "    </tr>\n",
       "  </thead>\n",
       "  <tbody>\n",
       "    <tr>\n",
       "      <th>0</th>\n",
       "      <td>0.697006</td>\n",
       "      <td>0.254119</td>\n",
       "      <td>0.707539</td>\n",
       "      <td>0.180723</td>\n",
       "    </tr>\n",
       "    <tr>\n",
       "      <th>1</th>\n",
       "      <td>0.695184</td>\n",
       "      <td>0.254080</td>\n",
       "      <td>0.708050</td>\n",
       "      <td>0.180723</td>\n",
       "    </tr>\n",
       "    <tr>\n",
       "      <th>2</th>\n",
       "      <td>0.693186</td>\n",
       "      <td>0.253958</td>\n",
       "      <td>0.708459</td>\n",
       "      <td>0.188755</td>\n",
       "    </tr>\n",
       "    <tr>\n",
       "      <th>3</th>\n",
       "      <td>0.691095</td>\n",
       "      <td>0.253746</td>\n",
       "      <td>0.708663</td>\n",
       "      <td>0.196787</td>\n",
       "    </tr>\n",
       "    <tr>\n",
       "      <th>4</th>\n",
       "      <td>0.689063</td>\n",
       "      <td>0.253430</td>\n",
       "      <td>0.708612</td>\n",
       "      <td>0.200803</td>\n",
       "    </tr>\n",
       "  </tbody>\n",
       "</table>\n",
       "</div>"
      ],
      "text/plain": [
       "          x         y         z         v\n",
       "0  0.697006  0.254119  0.707539  0.180723\n",
       "1  0.695184  0.254080  0.708050  0.180723\n",
       "2  0.693186  0.253958  0.708459  0.188755\n",
       "3  0.691095  0.253746  0.708663  0.196787\n",
       "4  0.689063  0.253430  0.708612  0.200803"
      ]
     },
     "execution_count": 14,
     "metadata": {},
     "output_type": "execute_result"
    }
   ],
   "source": [
    "testDf.head()"
   ]
  },
  {
   "cell_type": "code",
   "execution_count": 15,
   "metadata": {
    "colab": {},
    "colab_type": "code",
    "id": "yJz8IUe8SXzV"
   },
   "outputs": [],
   "source": [
    "#Reshape data for RNN/LSTM\n",
    "def create_dataset(data, k):\n",
    "    dataX,dataY = [],[]\n",
    "    for i in range(data.shape[0] -k):\n",
    "        x = data[i:i+k,:]\n",
    "        y = data[i+k,:]\n",
    "        dataX.append(x)\n",
    "        dataY.append(y)\n",
    "    return dataX,dataY"
   ]
  },
  {
   "cell_type": "code",
   "execution_count": 16,
   "metadata": {
    "colab": {},
    "colab_type": "code",
    "id": "HPd-bccDScGO"
   },
   "outputs": [],
   "source": [
    "trainDf['fid'] = trainId"
   ]
  },
  {
   "cell_type": "code",
   "execution_count": 17,
   "metadata": {
    "colab": {},
    "colab_type": "code",
    "id": "7fEFMl2sS3kA"
   },
   "outputs": [],
   "source": [
    "testDf['fid'] = testId"
   ]
  },
  {
   "cell_type": "code",
   "execution_count": 18,
   "metadata": {
    "colab": {
     "base_uri": "https://localhost:8080/",
     "height": 402
    },
    "colab_type": "code",
    "executionInfo": {
     "elapsed": 1358,
     "status": "ok",
     "timestamp": 1579952472062,
     "user": {
      "displayName": "Shivam Aggarwal",
      "photoUrl": "",
      "userId": "09581223866808255815"
     },
     "user_tz": -330
    },
    "id": "yoyHRrGoS5at",
    "outputId": "8a0bcdf6-7842-4d6a-dce1-5f13c7ee854c"
   },
   "outputs": [
    {
     "data": {
      "text/html": [
       "<div>\n",
       "<style scoped>\n",
       "    .dataframe tbody tr th:only-of-type {\n",
       "        vertical-align: middle;\n",
       "    }\n",
       "\n",
       "    .dataframe tbody tr th {\n",
       "        vertical-align: top;\n",
       "    }\n",
       "\n",
       "    .dataframe thead th {\n",
       "        text-align: right;\n",
       "    }\n",
       "</style>\n",
       "<table border=\"1\" class=\"dataframe\">\n",
       "  <thead>\n",
       "    <tr style=\"text-align: right;\">\n",
       "      <th></th>\n",
       "      <th>x</th>\n",
       "      <th>y</th>\n",
       "      <th>z</th>\n",
       "      <th>v</th>\n",
       "      <th>fid</th>\n",
       "    </tr>\n",
       "  </thead>\n",
       "  <tbody>\n",
       "    <tr>\n",
       "      <th>0</th>\n",
       "      <td>0.399771</td>\n",
       "      <td>0.412193</td>\n",
       "      <td>0.000000</td>\n",
       "      <td>0.329317</td>\n",
       "      <td>0</td>\n",
       "    </tr>\n",
       "    <tr>\n",
       "      <th>1</th>\n",
       "      <td>0.399778</td>\n",
       "      <td>0.440124</td>\n",
       "      <td>0.698339</td>\n",
       "      <td>0.329317</td>\n",
       "      <td>0</td>\n",
       "    </tr>\n",
       "    <tr>\n",
       "      <th>2</th>\n",
       "      <td>0.399784</td>\n",
       "      <td>0.441412</td>\n",
       "      <td>0.700690</td>\n",
       "      <td>0.337349</td>\n",
       "      <td>0</td>\n",
       "    </tr>\n",
       "    <tr>\n",
       "      <th>3</th>\n",
       "      <td>0.399791</td>\n",
       "      <td>0.442712</td>\n",
       "      <td>0.703041</td>\n",
       "      <td>0.345382</td>\n",
       "      <td>0</td>\n",
       "    </tr>\n",
       "    <tr>\n",
       "      <th>4</th>\n",
       "      <td>0.399797</td>\n",
       "      <td>0.444013</td>\n",
       "      <td>0.705290</td>\n",
       "      <td>0.353414</td>\n",
       "      <td>0</td>\n",
       "    </tr>\n",
       "    <tr>\n",
       "      <th>...</th>\n",
       "      <td>...</td>\n",
       "      <td>...</td>\n",
       "      <td>...</td>\n",
       "      <td>...</td>\n",
       "      <td>...</td>\n",
       "    </tr>\n",
       "    <tr>\n",
       "      <th>135265</th>\n",
       "      <td>0.411008</td>\n",
       "      <td>0.451218</td>\n",
       "      <td>0.698799</td>\n",
       "      <td>0.289157</td>\n",
       "      <td>2382</td>\n",
       "    </tr>\n",
       "    <tr>\n",
       "      <th>135266</th>\n",
       "      <td>0.409949</td>\n",
       "      <td>0.449235</td>\n",
       "      <td>0.697879</td>\n",
       "      <td>0.289157</td>\n",
       "      <td>2382</td>\n",
       "    </tr>\n",
       "    <tr>\n",
       "      <th>135267</th>\n",
       "      <td>0.408884</td>\n",
       "      <td>0.447258</td>\n",
       "      <td>0.696908</td>\n",
       "      <td>0.289157</td>\n",
       "      <td>2382</td>\n",
       "    </tr>\n",
       "    <tr>\n",
       "      <th>135268</th>\n",
       "      <td>0.407793</td>\n",
       "      <td>0.445327</td>\n",
       "      <td>0.696090</td>\n",
       "      <td>0.289157</td>\n",
       "      <td>2382</td>\n",
       "    </tr>\n",
       "    <tr>\n",
       "      <th>135269</th>\n",
       "      <td>0.406695</td>\n",
       "      <td>0.443421</td>\n",
       "      <td>0.695426</td>\n",
       "      <td>0.289157</td>\n",
       "      <td>2382</td>\n",
       "    </tr>\n",
       "  </tbody>\n",
       "</table>\n",
       "<p>135270 rows × 5 columns</p>\n",
       "</div>"
      ],
      "text/plain": [
       "               x         y         z         v   fid\n",
       "0       0.399771  0.412193  0.000000  0.329317     0\n",
       "1       0.399778  0.440124  0.698339  0.329317     0\n",
       "2       0.399784  0.441412  0.700690  0.337349     0\n",
       "3       0.399791  0.442712  0.703041  0.345382     0\n",
       "4       0.399797  0.444013  0.705290  0.353414     0\n",
       "...          ...       ...       ...       ...   ...\n",
       "135265  0.411008  0.451218  0.698799  0.289157  2382\n",
       "135266  0.409949  0.449235  0.697879  0.289157  2382\n",
       "135267  0.408884  0.447258  0.696908  0.289157  2382\n",
       "135268  0.407793  0.445327  0.696090  0.289157  2382\n",
       "135269  0.406695  0.443421  0.695426  0.289157  2382\n",
       "\n",
       "[135270 rows x 5 columns]"
      ]
     },
     "execution_count": 18,
     "metadata": {},
     "output_type": "execute_result"
    }
   ],
   "source": [
    "trainDf"
   ]
  },
  {
   "cell_type": "code",
   "execution_count": 19,
   "metadata": {
    "colab": {
     "base_uri": "https://localhost:8080/",
     "height": 402
    },
    "colab_type": "code",
    "executionInfo": {
     "elapsed": 1371,
     "status": "ok",
     "timestamp": 1579952472747,
     "user": {
      "displayName": "Shivam Aggarwal",
      "photoUrl": "",
      "userId": "09581223866808255815"
     },
     "user_tz": -330
    },
    "id": "arRFvDzlS6lc",
    "outputId": "3d87d0ed-2060-4de5-b972-f8f0cdfeea9c"
   },
   "outputs": [
    {
     "data": {
      "text/html": [
       "<div>\n",
       "<style scoped>\n",
       "    .dataframe tbody tr th:only-of-type {\n",
       "        vertical-align: middle;\n",
       "    }\n",
       "\n",
       "    .dataframe tbody tr th {\n",
       "        vertical-align: top;\n",
       "    }\n",
       "\n",
       "    .dataframe thead th {\n",
       "        text-align: right;\n",
       "    }\n",
       "</style>\n",
       "<table border=\"1\" class=\"dataframe\">\n",
       "  <thead>\n",
       "    <tr style=\"text-align: right;\">\n",
       "      <th></th>\n",
       "      <th>x</th>\n",
       "      <th>y</th>\n",
       "      <th>z</th>\n",
       "      <th>v</th>\n",
       "      <th>fid</th>\n",
       "    </tr>\n",
       "  </thead>\n",
       "  <tbody>\n",
       "    <tr>\n",
       "      <th>0</th>\n",
       "      <td>0.697006</td>\n",
       "      <td>0.254119</td>\n",
       "      <td>0.707539</td>\n",
       "      <td>0.180723</td>\n",
       "      <td>2</td>\n",
       "    </tr>\n",
       "    <tr>\n",
       "      <th>1</th>\n",
       "      <td>0.695184</td>\n",
       "      <td>0.254080</td>\n",
       "      <td>0.708050</td>\n",
       "      <td>0.180723</td>\n",
       "      <td>2</td>\n",
       "    </tr>\n",
       "    <tr>\n",
       "      <th>2</th>\n",
       "      <td>0.693186</td>\n",
       "      <td>0.253958</td>\n",
       "      <td>0.708459</td>\n",
       "      <td>0.188755</td>\n",
       "      <td>2</td>\n",
       "    </tr>\n",
       "    <tr>\n",
       "      <th>3</th>\n",
       "      <td>0.691095</td>\n",
       "      <td>0.253746</td>\n",
       "      <td>0.708663</td>\n",
       "      <td>0.196787</td>\n",
       "      <td>2</td>\n",
       "    </tr>\n",
       "    <tr>\n",
       "      <th>4</th>\n",
       "      <td>0.689063</td>\n",
       "      <td>0.253430</td>\n",
       "      <td>0.708612</td>\n",
       "      <td>0.200803</td>\n",
       "      <td>2</td>\n",
       "    </tr>\n",
       "    <tr>\n",
       "      <th>...</th>\n",
       "      <td>...</td>\n",
       "      <td>...</td>\n",
       "      <td>...</td>\n",
       "      <td>...</td>\n",
       "      <td>...</td>\n",
       "    </tr>\n",
       "    <tr>\n",
       "      <th>192844</th>\n",
       "      <td>0.943889</td>\n",
       "      <td>0.637506</td>\n",
       "      <td>0.964426</td>\n",
       "      <td>0.919679</td>\n",
       "      <td>2381</td>\n",
       "    </tr>\n",
       "    <tr>\n",
       "      <th>192845</th>\n",
       "      <td>0.950030</td>\n",
       "      <td>0.640745</td>\n",
       "      <td>0.966420</td>\n",
       "      <td>0.919679</td>\n",
       "      <td>2381</td>\n",
       "    </tr>\n",
       "    <tr>\n",
       "      <th>192846</th>\n",
       "      <td>0.956138</td>\n",
       "      <td>0.644074</td>\n",
       "      <td>0.968106</td>\n",
       "      <td>0.919679</td>\n",
       "      <td>2381</td>\n",
       "    </tr>\n",
       "    <tr>\n",
       "      <th>192847</th>\n",
       "      <td>0.962240</td>\n",
       "      <td>0.647467</td>\n",
       "      <td>0.969589</td>\n",
       "      <td>0.919679</td>\n",
       "      <td>2381</td>\n",
       "    </tr>\n",
       "    <tr>\n",
       "      <th>192848</th>\n",
       "      <td>0.968348</td>\n",
       "      <td>0.650905</td>\n",
       "      <td>0.971020</td>\n",
       "      <td>0.919679</td>\n",
       "      <td>2381</td>\n",
       "    </tr>\n",
       "  </tbody>\n",
       "</table>\n",
       "<p>192849 rows × 5 columns</p>\n",
       "</div>"
      ],
      "text/plain": [
       "               x         y         z         v   fid\n",
       "0       0.697006  0.254119  0.707539  0.180723     2\n",
       "1       0.695184  0.254080  0.708050  0.180723     2\n",
       "2       0.693186  0.253958  0.708459  0.188755     2\n",
       "3       0.691095  0.253746  0.708663  0.196787     2\n",
       "4       0.689063  0.253430  0.708612  0.200803     2\n",
       "...          ...       ...       ...       ...   ...\n",
       "192844  0.943889  0.637506  0.964426  0.919679  2381\n",
       "192845  0.950030  0.640745  0.966420  0.919679  2381\n",
       "192846  0.956138  0.644074  0.968106  0.919679  2381\n",
       "192847  0.962240  0.647467  0.969589  0.919679  2381\n",
       "192848  0.968348  0.650905  0.971020  0.919679  2381\n",
       "\n",
       "[192849 rows x 5 columns]"
      ]
     },
     "execution_count": 19,
     "metadata": {},
     "output_type": "execute_result"
    }
   ],
   "source": [
    "testDf"
   ]
  },
  {
   "cell_type": "code",
   "execution_count": 20,
   "metadata": {
    "colab": {},
    "colab_type": "code",
    "id": "h9EGjYayS8C-"
   },
   "outputs": [],
   "source": [
    "def createDataset(df,look_back):    \n",
    "    trainX = []\n",
    "    trainY = []\n",
    "    fid = list(set(df['fid']))\n",
    "    # print(fid[:1])\n",
    "    for flightId in fid:\n",
    "        tempDf = df[df.fid == flightId].copy()\n",
    "        del tempDf['fid']\n",
    "        tempDf.reset_index(drop = True,inplace = True)\n",
    "        x,y = create_dataset(tempDf.values,look_back)\n",
    "        trainX.extend(x)\n",
    "        trainY.extend(y)\n",
    "    return  trainX,trainY"
   ]
  },
  {
   "cell_type": "code",
   "execution_count": 21,
   "metadata": {
    "colab": {},
    "colab_type": "code",
    "id": "RN-r6gvVS-XP"
   },
   "outputs": [],
   "source": [
    "x,y = createDataset(trainDf,5)\n",
    "x,y = np.array(x), np.array(y)"
   ]
  },
  {
   "cell_type": "code",
   "execution_count": 22,
   "metadata": {
    "colab": {
     "base_uri": "https://localhost:8080/",
     "height": 34
    },
    "colab_type": "code",
    "executionInfo": {
     "elapsed": 4913,
     "status": "ok",
     "timestamp": 1579952479956,
     "user": {
      "displayName": "Shivam Aggarwal",
      "photoUrl": "",
      "userId": "09581223866808255815"
     },
     "user_tz": -330
    },
    "id": "IfPyI9DwWmsp",
    "outputId": "70615258-215a-4130-c709-b2c7f9d2d7ab"
   },
   "outputs": [
    {
     "data": {
      "text/plain": [
       "((131020, 5, 4), (131020, 4))"
      ]
     },
     "execution_count": 22,
     "metadata": {},
     "output_type": "execute_result"
    }
   ],
   "source": [
    "x.shape, y.shape"
   ]
  },
  {
   "cell_type": "code",
   "execution_count": 23,
   "metadata": {
    "colab": {},
    "colab_type": "code",
    "id": "P5VJ6G1JWqjV"
   },
   "outputs": [],
   "source": [
    "from keras.models import Sequential\n",
    "from keras.layers import LSSimpleRNN, Dense\n",
    "from keras import optimizers\n",
    "from keras.layers import Dense, Flatten, Activation, Dropout\n",
    "import keras\n",
    "import tensorflow as tf \n"
   ]
  },
  {
   "cell_type": "code",
   "execution_count": 24,
   "metadata": {
    "colab": {},
    "colab_type": "code",
    "id": "W1RVY0JOWunB"
   },
   "outputs": [],
   "source": [
    "adam = tf.optimizers.Adam()\n",
    "look_back = 5"
   ]
  },
  {
   "cell_type": "code",
   "execution_count": 25,
   "metadata": {
    "colab": {
     "base_uri": "https://localhost:8080/",
     "height": 34
    },
    "colab_type": "code",
    "executionInfo": {
     "elapsed": 2829,
     "status": "ok",
     "timestamp": 1579952479959,
     "user": {
      "displayName": "Shivam Aggarwal",
      "photoUrl": "",
      "userId": "09581223866808255815"
     },
     "user_tz": -330
    },
    "id": "WX4uQSfSWv9B",
    "outputId": "b21ca149-0bad-42d8-d218-f348992e13c8"
   },
   "outputs": [
    {
     "data": {
      "text/plain": [
       "((131020, 5, 4), (131020, 4))"
      ]
     },
     "execution_count": 25,
     "metadata": {},
     "output_type": "execute_result"
    }
   ],
   "source": [
    "x.shape, y.shape"
   ]
  },
  {
   "cell_type": "code",
   "execution_count": 73,
   "metadata": {
    "colab": {
     "base_uri": "https://localhost:8080/",
     "height": 1000
    },
    "colab_type": "code",
    "executionInfo": {
     "elapsed": 29776,
     "status": "ok",
     "timestamp": 1579952507319,
     "user": {
      "displayName": "Shivam Aggarwal",
      "photoUrl": "",
      "userId": "09581223866808255815"
     },
     "user_tz": -330
    },
    "id": "Go9vsKBQW0Cn",
    "outputId": "d36ae140-7f97-4559-ce02-5f44dc4e2d54"
   },
   "outputs": [
    {
     "ename": "NameError",
     "evalue": "name 'LSTM' is not defined",
     "output_type": "error",
     "traceback": [
      "\u001b[1;31m---------------------------------------------------------------------------\u001b[0m",
      "\u001b[1;31mNameError\u001b[0m                                 Traceback (most recent call last)",
      "\u001b[1;32m<ipython-input-73-beef148caa33>\u001b[0m in \u001b[0;36m<module>\u001b[1;34m\u001b[0m\n\u001b[0;32m      1\u001b[0m \u001b[0mmodel\u001b[0m \u001b[1;33m=\u001b[0m \u001b[0mSequential\u001b[0m\u001b[1;33m(\u001b[0m\u001b[1;33m)\u001b[0m\u001b[1;33m\u001b[0m\u001b[1;33m\u001b[0m\u001b[0m\n\u001b[0;32m      2\u001b[0m \u001b[1;31m# model.add(SimpleRNN(12,input_shape = (look_back, 1),activation='relu'))\u001b[0m\u001b[1;33m\u001b[0m\u001b[1;33m\u001b[0m\u001b[1;33m\u001b[0m\u001b[0m\n\u001b[1;32m----> 3\u001b[1;33m \u001b[0mmodel\u001b[0m\u001b[1;33m.\u001b[0m\u001b[0madd\u001b[0m\u001b[1;33m(\u001b[0m\u001b[0mLSTM\u001b[0m\u001b[1;33m(\u001b[0m\u001b[1;36m12\u001b[0m\u001b[1;33m,\u001b[0m\u001b[0minput_shape\u001b[0m \u001b[1;33m=\u001b[0m \u001b[1;33m(\u001b[0m\u001b[0mlook_back\u001b[0m\u001b[1;33m,\u001b[0m \u001b[1;36m4\u001b[0m\u001b[1;33m)\u001b[0m\u001b[1;33m)\u001b[0m\u001b[1;33m)\u001b[0m\u001b[1;33m\u001b[0m\u001b[1;33m\u001b[0m\u001b[0m\n\u001b[0m\u001b[0;32m      4\u001b[0m \u001b[1;31m# model.add(Dropout(0.2))\u001b[0m\u001b[1;33m\u001b[0m\u001b[1;33m\u001b[0m\u001b[1;33m\u001b[0m\u001b[0m\n\u001b[0;32m      5\u001b[0m \u001b[0mmodel\u001b[0m\u001b[1;33m.\u001b[0m\u001b[0madd\u001b[0m\u001b[1;33m(\u001b[0m\u001b[0mDense\u001b[0m\u001b[1;33m(\u001b[0m\u001b[1;36m12\u001b[0m\u001b[1;33m)\u001b[0m\u001b[1;33m)\u001b[0m\u001b[1;33m\u001b[0m\u001b[1;33m\u001b[0m\u001b[0m\n",
      "\u001b[1;31mNameError\u001b[0m: name 'LSTM' is not defined"
     ]
    }
   ],
   "source": [
    "model = Sequential()\n",
    "# model.add(SimpleRNN(12,input_shape = (look_back, 1),activation='relu'))\n",
    "model.add(LSTM(12,input_shape = (look_back, 4)))\n",
    "# model.add(Dropout(0.2))\n",
    "model.add(Dense(12))\n",
    "model.add(Dense(4))\n",
    "model.compile(loss='mean_squared_error',optimizer=adam,metrics=['accuracy'])\n",
    "model.fit(x,y,epochs = 30 ,batch_size =1000)"
   ]
  },
  {
   "cell_type": "code",
   "execution_count": 27,
   "metadata": {
    "colab": {},
    "colab_type": "code",
    "id": "a7XxWMg1W1pu"
   },
   "outputs": [],
   "source": [
    "y_predict = model.predict(x)"
   ]
  },
  {
   "cell_type": "code",
   "execution_count": 60,
   "metadata": {
    "colab": {},
    "colab_type": "code",
    "id": "zWL1uBPYXlbk"
   },
   "outputs": [],
   "source": [
    "from sklearn.metrics import r2_score,explained_variance_score,mean_absolute_error,mean_squared_error,mean_squared_log_error,median_absolute_error\n",
    "import numpy as np"
   ]
  },
  {
   "cell_type": "code",
   "execution_count": 29,
   "metadata": {
    "colab": {
     "base_uri": "https://localhost:8080/",
     "height": 34
    },
    "colab_type": "code",
    "executionInfo": {
     "elapsed": 39721,
     "status": "ok",
     "timestamp": 1579952518846,
     "user": {
      "displayName": "Shivam Aggarwal",
      "photoUrl": "",
      "userId": "09581223866808255815"
     },
     "user_tz": -330
    },
    "id": "wGls_IzVXv9x",
    "outputId": "8a15906c-2de2-4ec8-ff8c-127041611383"
   },
   "outputs": [
    {
     "data": {
      "text/plain": [
       "(131020, 4)"
      ]
     },
     "execution_count": 29,
     "metadata": {},
     "output_type": "execute_result"
    }
   ],
   "source": [
    "y_predict.shape"
   ]
  },
  {
   "cell_type": "code",
   "execution_count": 30,
   "metadata": {
    "colab": {
     "base_uri": "https://localhost:8080/",
     "height": 34
    },
    "colab_type": "code",
    "executionInfo": {
     "elapsed": 39071,
     "status": "ok",
     "timestamp": 1579952518846,
     "user": {
      "displayName": "Shivam Aggarwal",
      "photoUrl": "",
      "userId": "09581223866808255815"
     },
     "user_tz": -330
    },
    "id": "JyTUMbgXXx_k",
    "outputId": "b1efc6f0-5b9d-47ad-8236-11869c1711bc"
   },
   "outputs": [
    {
     "data": {
      "text/plain": [
       "(131020, 4)"
      ]
     },
     "execution_count": 30,
     "metadata": {},
     "output_type": "execute_result"
    }
   ],
   "source": [
    "y.shape"
   ]
  },
  {
   "cell_type": "code",
   "execution_count": 31,
   "metadata": {
    "colab": {},
    "colab_type": "code",
    "id": "3jI50dbzXyrx"
   },
   "outputs": [],
   "source": [
    "y_true = scaler.inverse_transform(y)\n",
    "y_pred = scaler.inverse_transform(y_predict)"
   ]
  },
  {
   "cell_type": "code",
   "execution_count": 49,
   "metadata": {
    "colab": {
     "base_uri": "https://localhost:8080/",
     "height": 34
    },
    "colab_type": "code",
    "executionInfo": {
     "elapsed": 37811,
     "status": "ok",
     "timestamp": 1579952518848,
     "user": {
      "displayName": "Shivam Aggarwal",
      "photoUrl": "",
      "userId": "09581223866808255815"
     },
     "user_tz": -330
    },
    "id": "yIPV8aa3X_U8",
    "outputId": "3d0cfaa4-078d-4f06-fc0a-c468faee25ab"
   },
   "outputs": [
    {
     "data": {
      "text/plain": [
       "0.9974709646033708"
      ]
     },
     "execution_count": 49,
     "metadata": {},
     "output_type": "execute_result"
    }
   ],
   "source": [
    "r2_score(y_true,y_pred)"
   ]
  },
  {
   "cell_type": "code",
   "execution_count": 33,
   "metadata": {
    "colab": {},
    "colab_type": "code",
    "id": "h1FD-H6xYDn4"
   },
   "outputs": [],
   "source": [
    "x_test,y_test = createDataset(testDf,5)\n",
    "x_test,y_test = np.array(x_test), np.array(y_test)"
   ]
  },
  {
   "cell_type": "code",
   "execution_count": 50,
   "metadata": {},
   "outputs": [
    {
     "data": {
      "text/plain": [
       "array([[-13589.,  -8445.,    253.,     90.],\n",
       "       [-13588.,  -8231.,    305.,     91.],\n",
       "       [-13587.,  -8014.,    356.,     93.],\n",
       "       ...,\n",
       "       [ -2138.,   2064.,     66.,     64.],\n",
       "       [ -1894.,   1857.,     51.,     64.],\n",
       "       [ -1647.,   1652.,     39.,     64.]])"
      ]
     },
     "execution_count": 50,
     "metadata": {},
     "output_type": "execute_result"
    }
   ],
   "source": [
    "y_true"
   ]
  },
  {
   "cell_type": "code",
   "execution_count": 51,
   "metadata": {},
   "outputs": [
    {
     "data": {
      "text/plain": [
       "array([[ 3.6462848e+04, -3.6974559e+04,  2.6496167e+03,  6.3577763e+01],\n",
       "       [-1.3320390e+04, -9.8427988e+03,  1.7631511e+02,  9.1277679e+01],\n",
       "       [-1.3674979e+04, -9.3472188e+03,  2.2420601e+02,  9.2128021e+01],\n",
       "       ...,\n",
       "       [-2.0606724e+03,  2.1540432e+03,  2.2974915e+01,  6.3286110e+01],\n",
       "       [-1.8028981e+03,  1.9670627e+03,  4.0713835e+00,  6.3304523e+01],\n",
       "       [-1.5451237e+03,  1.7834241e+03, -1.6937077e+01,  6.3308765e+01]],\n",
       "      dtype=float32)"
      ]
     },
     "execution_count": 51,
     "metadata": {},
     "output_type": "execute_result"
    }
   ],
   "source": [
    "y_pred"
   ]
  },
  {
   "cell_type": "code",
   "execution_count": 34,
   "metadata": {
    "colab": {},
    "colab_type": "code",
    "id": "2QXPjxg7YRq6"
   },
   "outputs": [],
   "source": [
    "y_test_pred = model.predict(x_test)"
   ]
  },
  {
   "cell_type": "code",
   "execution_count": 35,
   "metadata": {
    "colab": {},
    "colab_type": "code",
    "id": "ggFJJBB8YXXc"
   },
   "outputs": [],
   "source": [
    "y_true1 = scaler.inverse_transform(y_test)\n",
    "y_pred1 = scaler.inverse_transform(y_test_pred)\n"
   ]
  },
  {
   "cell_type": "code",
   "execution_count": 62,
   "metadata": {
    "colab": {
     "base_uri": "https://localhost:8080/",
     "height": 34
    },
    "colab_type": "code",
    "executionInfo": {
     "elapsed": 52833,
     "status": "ok",
     "timestamp": 1579952536652,
     "user": {
      "displayName": "Shivam Aggarwal",
      "photoUrl": "",
      "userId": "09581223866808255815"
     },
     "user_tz": -330
    },
    "id": "p-HGwlZOYfI8",
    "outputId": "d894dc28-5949-4bf8-9f40-7b0d0dc5a3b8"
   },
   "outputs": [
    {
     "name": "stdout",
     "output_type": "stream",
     "text": [
      "r2 score: 0.9974725306860537\n"
     ]
    }
   ],
   "source": [
    "print(\"r2 score:\" ,r2_score(y_true1,y_pred1))"
   ]
  },
  {
   "cell_type": "code",
   "execution_count": 66,
   "metadata": {},
   "outputs": [
    {
     "name": "stdout",
     "output_type": "stream",
     "text": [
      "Root Mean squared error: 979.6269521532449\n"
     ]
    }
   ],
   "source": [
    "print(\"Root Mean squared error:\", np.sqrt(mean_squared_error(y_true1,y_pred1)))"
   ]
  },
  {
   "cell_type": "code",
   "execution_count": 67,
   "metadata": {},
   "outputs": [
    {
     "name": "stdout",
     "output_type": "stream",
     "text": [
      "Explained Variance Score: 0.997479313284615\n"
     ]
    }
   ],
   "source": [
    "print(\"Explained Variance Score:\", explained_variance_score(y_true1,y_pred1))"
   ]
  },
  {
   "cell_type": "code",
   "execution_count": 71,
   "metadata": {},
   "outputs": [
    {
     "name": "stdout",
     "output_type": "stream",
     "text": [
      "Mean Absolute Error: 529.5506124280479\n"
     ]
    }
   ],
   "source": [
    "print(\"Mean Absolute Error:\", mean_absolute_error(y_true1,y_pred1))"
   ]
  },
  {
   "cell_type": "code",
   "execution_count": 72,
   "metadata": {},
   "outputs": [
    {
     "name": "stdout",
     "output_type": "stream",
     "text": [
      "Mean absolute error: 443.9003963470445\n"
     ]
    }
   ],
   "source": [
    "print(\"Mean absolute error:\", median_absolute_error(y_true1,y_pred1))"
   ]
  },
  {
   "cell_type": "code",
   "execution_count": 37,
   "metadata": {
    "colab": {
     "base_uri": "https://localhost:8080/",
     "height": 265
    },
    "colab_type": "code",
    "executionInfo": {
     "elapsed": 51730,
     "status": "ok",
     "timestamp": 1579952536653,
     "user": {
      "displayName": "Shivam Aggarwal",
      "photoUrl": "",
      "userId": "09581223866808255815"
     },
     "user_tz": -330
    },
    "id": "OF2JKnzdYfkI",
    "outputId": "df8d81c6-5b9b-489d-a601-198d67c408ad"
   },
   "outputs": [
    {
     "data": {
      "image/png": "[encoded data removed]",
      "text/plain": [
       "<Figure size 432x288 with 1 Axes>"
      ]
     },
     "metadata": {
      "needs_background": "light"
     },
     "output_type": "display_data"
    }
   ],
   "source": [
    "a, b= y_true1[110:160,:],y_pred1[110:160,:]\n",
    "import matplotlib.pyplot as plt\n",
    "plt.plot(a,c='r')\n",
    "plt.plot(b,c='g')\n",
    "plt.show()"
   ]
  },
  {
   "cell_type": "code",
   "execution_count": 38,
   "metadata": {
    "colab": {
     "base_uri": "https://localhost:8080/",
     "height": 248
    },
    "colab_type": "code",
    "executionInfo": {
     "elapsed": 50958,
     "status": "ok",
     "timestamp": 1579952536653,
     "user": {
      "displayName": "Shivam Aggarwal",
      "photoUrl": "",
      "userId": "09581223866808255815"
     },
     "user_tz": -330
    },
    "id": "ZALPJuwIdaqK",
    "outputId": "150f69a9-90d7-463f-8a68-9412848641a5"
   },
   "outputs": [
    {
     "data": {
      "image/png": "[encoded data removed]",
      "text/plain": [
       "<Figure size 432x288 with 1 Axes>"
      ]
     },
     "metadata": {
      "needs_background": "light"
     },
     "output_type": "display_data"
    }
   ],
   "source": [
    "from mpl_toolkits import mplot3d\n",
    "fig = plt.figure()\n",
    "ax= plt.axes(projection=\"3d\")\n",
    "ax.plot3D(a[:,0],a[:,1],a[:,2],c='r')\n",
    "ax.plot3D(b[:,0],b[:,1],b[:,2],c='g')\n",
    "plt.show()"
   ]
  },
  {
   "cell_type": "code",
   "execution_count": 39,
   "metadata": {
    "colab": {
     "base_uri": "https://localhost:8080/",
     "height": 34
    },
    "colab_type": "code",
    "executionInfo": {
     "elapsed": 50277,
     "status": "ok",
     "timestamp": 1579952536654,
     "user": {
      "displayName": "Shivam Aggarwal",
      "photoUrl": "",
      "userId": "09581223866808255815"
     },
     "user_tz": -330
    },
    "id": "ix3nW2vOeIKD",
    "outputId": "8a4cef14-1e6b-4f87-ea00-deadb545a325"
   },
   "outputs": [
    {
     "data": {
      "text/plain": [
       "(50, 4)"
      ]
     },
     "execution_count": 39,
     "metadata": {},
     "output_type": "execute_result"
    }
   ],
   "source": [
    "b . shape"
   ]
  },
  {
   "cell_type": "code",
   "execution_count": 40,
   "metadata": {
    "colab": {
     "base_uri": "https://localhost:8080/",
     "height": 402
    },
    "colab_type": "code",
    "executionInfo": {
     "elapsed": 49351,
     "status": "ok",
     "timestamp": 1579952536654,
     "user": {
      "displayName": "Shivam Aggarwal",
      "photoUrl": "",
      "userId": "09581223866808255815"
     },
     "user_tz": -330
    },
    "id": "2tISzUkwf0Uk",
    "outputId": "c84cba1c-9deb-42b6-f934-3f543bb1c1b5"
   },
   "outputs": [
    {
     "data": {
      "text/html": [
       "<div>\n",
       "<style scoped>\n",
       "    .dataframe tbody tr th:only-of-type {\n",
       "        vertical-align: middle;\n",
       "    }\n",
       "\n",
       "    .dataframe tbody tr th {\n",
       "        vertical-align: top;\n",
       "    }\n",
       "\n",
       "    .dataframe thead th {\n",
       "        text-align: right;\n",
       "    }\n",
       "</style>\n",
       "<table border=\"1\" class=\"dataframe\">\n",
       "  <thead>\n",
       "    <tr style=\"text-align: right;\">\n",
       "      <th></th>\n",
       "      <th>x</th>\n",
       "      <th>y</th>\n",
       "      <th>z</th>\n",
       "      <th>v</th>\n",
       "      <th>fid</th>\n",
       "    </tr>\n",
       "  </thead>\n",
       "  <tbody>\n",
       "    <tr>\n",
       "      <th>0</th>\n",
       "      <td>0.697006</td>\n",
       "      <td>0.254119</td>\n",
       "      <td>0.707539</td>\n",
       "      <td>0.180723</td>\n",
       "      <td>2</td>\n",
       "    </tr>\n",
       "    <tr>\n",
       "      <th>1</th>\n",
       "      <td>0.695184</td>\n",
       "      <td>0.254080</td>\n",
       "      <td>0.708050</td>\n",
       "      <td>0.180723</td>\n",
       "      <td>2</td>\n",
       "    </tr>\n",
       "    <tr>\n",
       "      <th>2</th>\n",
       "      <td>0.693186</td>\n",
       "      <td>0.253958</td>\n",
       "      <td>0.708459</td>\n",
       "      <td>0.188755</td>\n",
       "      <td>2</td>\n",
       "    </tr>\n",
       "    <tr>\n",
       "      <th>3</th>\n",
       "      <td>0.691095</td>\n",
       "      <td>0.253746</td>\n",
       "      <td>0.708663</td>\n",
       "      <td>0.196787</td>\n",
       "      <td>2</td>\n",
       "    </tr>\n",
       "    <tr>\n",
       "      <th>4</th>\n",
       "      <td>0.689063</td>\n",
       "      <td>0.253430</td>\n",
       "      <td>0.708612</td>\n",
       "      <td>0.200803</td>\n",
       "      <td>2</td>\n",
       "    </tr>\n",
       "    <tr>\n",
       "      <th>...</th>\n",
       "      <td>...</td>\n",
       "      <td>...</td>\n",
       "      <td>...</td>\n",
       "      <td>...</td>\n",
       "      <td>...</td>\n",
       "    </tr>\n",
       "    <tr>\n",
       "      <th>192844</th>\n",
       "      <td>0.943889</td>\n",
       "      <td>0.637506</td>\n",
       "      <td>0.964426</td>\n",
       "      <td>0.919679</td>\n",
       "      <td>2381</td>\n",
       "    </tr>\n",
       "    <tr>\n",
       "      <th>192845</th>\n",
       "      <td>0.950030</td>\n",
       "      <td>0.640745</td>\n",
       "      <td>0.966420</td>\n",
       "      <td>0.919679</td>\n",
       "      <td>2381</td>\n",
       "    </tr>\n",
       "    <tr>\n",
       "      <th>192846</th>\n",
       "      <td>0.956138</td>\n",
       "      <td>0.644074</td>\n",
       "      <td>0.968106</td>\n",
       "      <td>0.919679</td>\n",
       "      <td>2381</td>\n",
       "    </tr>\n",
       "    <tr>\n",
       "      <th>192847</th>\n",
       "      <td>0.962240</td>\n",
       "      <td>0.647467</td>\n",
       "      <td>0.969589</td>\n",
       "      <td>0.919679</td>\n",
       "      <td>2381</td>\n",
       "    </tr>\n",
       "    <tr>\n",
       "      <th>192848</th>\n",
       "      <td>0.968348</td>\n",
       "      <td>0.650905</td>\n",
       "      <td>0.971020</td>\n",
       "      <td>0.919679</td>\n",
       "      <td>2381</td>\n",
       "    </tr>\n",
       "  </tbody>\n",
       "</table>\n",
       "<p>192849 rows × 5 columns</p>\n",
       "</div>"
      ],
      "text/plain": [
       "               x         y         z         v   fid\n",
       "0       0.697006  0.254119  0.707539  0.180723     2\n",
       "1       0.695184  0.254080  0.708050  0.180723     2\n",
       "2       0.693186  0.253958  0.708459  0.188755     2\n",
       "3       0.691095  0.253746  0.708663  0.196787     2\n",
       "4       0.689063  0.253430  0.708612  0.200803     2\n",
       "...          ...       ...       ...       ...   ...\n",
       "192844  0.943889  0.637506  0.964426  0.919679  2381\n",
       "192845  0.950030  0.640745  0.966420  0.919679  2381\n",
       "192846  0.956138  0.644074  0.968106  0.919679  2381\n",
       "192847  0.962240  0.647467  0.969589  0.919679  2381\n",
       "192848  0.968348  0.650905  0.971020  0.919679  2381\n",
       "\n",
       "[192849 rows x 5 columns]"
      ]
     },
     "execution_count": 40,
     "metadata": {},
     "output_type": "execute_result"
    }
   ],
   "source": [
    "testDf"
   ]
  },
  {
   "cell_type": "code",
   "execution_count": 41,
   "metadata": {
    "colab": {
     "base_uri": "https://localhost:8080/",
     "height": 34
    },
    "colab_type": "code",
    "executionInfo": {
     "elapsed": 1244,
     "status": "ok",
     "timestamp": 1579952571309,
     "user": {
      "displayName": "Shivam Aggarwal",
      "photoUrl": "",
      "userId": "09581223866808255815"
     },
     "user_tz": -330
    },
    "id": "VtYPFj7JgdYu",
    "outputId": "4436ac86-c723-449d-a8e7-de0f2d892815"
   },
   "outputs": [
    {
     "data": {
      "text/plain": [
       "['scaler_plane.pkl']"
      ]
     },
     "execution_count": 41,
     "metadata": {},
     "output_type": "execute_result"
    }
   ],
   "source": [
    "joblib.dump(scaler, 'scaler_plane.pkl')"
   ]
  },
  {
   "cell_type": "code",
   "execution_count": 42,
   "metadata": {
    "colab": {},
    "colab_type": "code",
    "id": "c2cR8uo5hvIF"
   },
   "outputs": [],
   "source": [
    "from collections import deque\n",
    "def predictValus(x,look_back,lenPred):\n",
    "  global model\n",
    "  pred = []\n",
    "  pred.extend(list(x))\n",
    "  x = deque(x)\n",
    "  assert(len(x) == look_back)\n",
    "  for i in range(lenPred):\n",
    "    x_prime = model.predict(np.array(x).reshape((1,look_back,3)))\n",
    "    x.append(x_prime)\n",
    "    x.popleft()\n",
    "    x.append(x_prime)\n",
    "  return x"
   ]
  },
  {
   "cell_type": "code",
   "execution_count": 43,
   "metadata": {
    "colab": {},
    "colab_type": "code",
    "id": "LR6T5J24jo7Z"
   },
   "outputs": [],
   "source": [
    "architecture = model.to_json()\n",
    "#saving the jason file in system(on the hard disk)\n",
    "with open(\"architecture_plane.json\", \"w\") as json_file:\n",
    "    json_file.write(architecture)\n",
    "  #now we are saving the trained weights\n",
    "model.save_weights(\"weights_plane.h5\")"
   ]
  },
  {
   "cell_type": "code",
   "execution_count": null,
   "metadata": {
    "colab": {
     "base_uri": "https://localhost:8080/",
     "height": 34
    },
    "colab_type": "code",
    "executionInfo": {
     "elapsed": 5621,
     "status": "ok",
     "timestamp": 1579951169276,
     "user": {
      "displayName": "Shivam Aggarwal",
      "photoUrl": "",
      "userId": "09581223866808255815"
     },
     "user_tz": -330
    },
    "id": "y91LQadFbVZ_",
    "outputId": "b8b5ace1-fff9-4a4f-9d63-f053584aa72f"
   },
   "outputs": [],
   "source": []
  },
  {
   "cell_type": "code",
   "execution_count": null,
   "metadata": {
    "colab": {},
    "colab_type": "code",
    "id": "76drEs_FbYXW"
   },
   "outputs": [],
   "source": []
  }
 ],
 "metadata": {
  "accelerator": "GPU",
  "colab": {
   "authorship_tag": "ABX9TyOwE47tyKKqv510UWgDC2Q2",
   "collapsed_sections": [],
   "name": "Trajectory(1.1).ipynb",
   "provenance": []
  },
  "kernelspec": {
   "display_name": "Python 3",
   "language": "python",
   "name": "python3"
  },
  "language_info": {
   "codemirror_mode": {
    "name": "ipython",
    "version": 3
   },
   "file_extension": ".py",
   "mimetype": "text/x-python",
   "name": "python",
   "nbconvert_exporter": "python",
   "pygments_lexer": "ipython3",
   "version": "3.8.5"
  }
 },
 "nbformat": 4,
 "nbformat_minor": 4
}
