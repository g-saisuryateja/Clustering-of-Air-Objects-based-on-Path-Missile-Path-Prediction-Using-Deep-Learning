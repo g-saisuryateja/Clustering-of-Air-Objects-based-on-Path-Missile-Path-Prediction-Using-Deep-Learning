{
 "cells": [
  {
   "cell_type": "code",
   "execution_count": 17,
   "metadata": {
    "id": "bcqU3qgxmJSy"
   },
   "outputs": [],
   "source": [
    "from keras.models import model_from_json\n",
    "import joblib\n",
    "from collections import deque\n",
    "class Trajectory:\n",
    "    def __init__(self,modelPath='architecture_plane.json',weightsPath='weights_plane.h5',scalerPath = \"scaler_plane.pkl\"):\n",
    "        '''\n",
    "            modelPath to be like = 'architecture.json'\n",
    "            weightsPath to be like = 'weights.h5'\n",
    "        '''\n",
    "        json_file = open(modelPath, 'r')\n",
    "        loaded_model_json = json_file.read()\n",
    "        json_file.close()\n",
    "        self.model = model_from_json(loaded_model_json)\n",
    "        self.model.load_weights(weightsPath)\n",
    "        self._look_back = 5\n",
    "        self.scaler = joblib.load(scalerPath)\n",
    "        self.scaler.clip = False \n",
    "    def predictValues(self,x,lenPred=1):\n",
    "        '''\n",
    "        x is the small sequence\n",
    "        shape should be (no. of rows,5,3)\n",
    "        -1,3\n",
    "        Look back is fixed to be 5 and\n",
    "        3 is the params in each sequence\n",
    "        lenPred Should be how many further points you want\n",
    "        '''\n",
    "        pred = []\n",
    "        x = np.array(x)\n",
    "        x = self.scaler.transform(x)\n",
    "        x.reshape(-1,5,4)    \n",
    "        x = deque(x)\n",
    "        assert(len(x) == self._look_back)\n",
    "        for i in range(lenPred):\n",
    "            # print(\"x before\",np.array(x).shape)\n",
    "            x_prime = self.model.predict(np.array(x).reshape((-1,self._look_back,4)))\n",
    "            x.popleft()\n",
    "            x.extend([x_prime])\n",
    "            # print(\"X_prime\",x_prime.shape)\n",
    "            # print(x)\n",
    "            # print(\"x after\",np.array(x).shape)\n",
    "            pred.append(x_prime)\n",
    "        pred = np.array(pred)\n",
    "        pred = pred.reshape((-1,4))\n",
    "        pred = self.scaler.inverse_transform(pred)\n",
    "        return pred\n",
    "    def predict(self,x,lenPred):\n",
    "      x = deque(x)\n",
    "      pred = []\n",
    "      for i in range(lenPred):\n",
    "        xTemp = self.predictValues(x)\n",
    "        x.popleft()\n",
    "        x.extend(xTemp)\n",
    "        pred.append(xTemp)\n",
    "      return pred"
   ]
  },
  {
   "cell_type": "code",
   "execution_count": 18,
   "metadata": {
    "colab": {
     "base_uri": "https://localhost:8080/"
    },
    "id": "ddBDJ76UnIfU",
    "outputId": "b5f1bacc-c592-4711-c691-58d8f01ea953"
   },
   "outputs": [],
   "source": [
    "import numpy as np\n",
    "traj = Trajectory(modelPath=\"architecture_plane.json\",weightsPath=\"weights_plane.h5\",scalerPath = \"scaler_plane.pkl\")\n",
    "x = [[[-13954, -9455,2437, 27],[-13925, -9255,2437, 71],[-14265, -9055,2437, 117],[-14615, -8853,2437, 163],[-14974, -8651,2437, 207]]]\n",
    "x = np.array(x).reshape(-1,4)\n",
    "# print(x)\n",
    "val = traj.predict(x,20)"
   ]
  },
  {
   "cell_type": "code",
   "execution_count": 19,
   "metadata": {
    "colab": {
     "base_uri": "https://localhost:8080/"
    },
    "id": "9SQ1xhtMnYCl",
    "outputId": "5246efa0-1693-4dd2-e79c-8a41e1302656"
   },
   "outputs": [
    {
     "data": {
      "text/plain": [
       "[array([[-19883.775  , -11153.218  ,   2535.125  ,    211.25623]],\n",
       "       dtype=float32),\n",
       " array([[-25063.287  , -11331.385  ,   2624.4707 ,    219.36882]],\n",
       "       dtype=float32),\n",
       " array([[-29781.795  , -11741.343  ,   1843.034  ,    223.56526]],\n",
       "       dtype=float32),\n",
       " array([[-33148.668  , -12200.291  ,   1712.3478 ,    223.94424]],\n",
       "       dtype=float32),\n",
       " array([[-34616.656  , -13809.899  ,   1528.5824 ,    224.46129]],\n",
       "       dtype=float32),\n",
       " array([[-35724.215  , -14242.075  ,   1345.8782 ,    225.02797]],\n",
       "       dtype=float32),\n",
       " array([[-35662.54   , -14386.999  ,   1230.3976 ,    224.96556]],\n",
       "       dtype=float32),\n",
       " array([[-35583.305  , -14267.783  ,   1158.1233 ,    225.32933]],\n",
       "       dtype=float32),\n",
       " array([[-35147.035  , -13959.17   ,   1029.423  ,    226.28105]],\n",
       "       dtype=float32),\n",
       " array([[-34383.215  , -13512.872  ,    956.3523 ,    227.15178]],\n",
       "       dtype=float32),\n",
       " array([[-33528.355 , -12856.098 ,    917.5575,    228.4005]],\n",
       "       dtype=float32),\n",
       " array([[-32480.887  , -12036.265  ,    858.56586,    229.95255]],\n",
       "       dtype=float32),\n",
       " array([[-31241.566  , -11082.922  ,    813.13324,    231.58539]],\n",
       "       dtype=float32),\n",
       " array([[-29907.37   , -10007.45   ,    775.7507 ,    233.42696]],\n",
       "       dtype=float32),\n",
       " array([[-28479.176  ,  -8819.581  ,    734.28534,    235.44316]],\n",
       "       dtype=float32),\n",
       " array([[-26947.533  ,  -7523.4604 ,    696.0806 ,    237.57556]],\n",
       "       dtype=float32),\n",
       " array([[-25352.97   ,  -6115.6494 ,    657.67065,    239.86842]],\n",
       "       dtype=float32),\n",
       " array([[-23704.303  ,  -4603.6147 ,    614.0071 ,    242.30132]],\n",
       "       dtype=float32),\n",
       " array([[-22012.457  ,  -2992.8916 ,    566.88   ,    244.84799]],\n",
       "       dtype=float32),\n",
       " array([[-20305.357  ,  -1280.0222 ,    514.3256 ,    247.52213]],\n",
       "       dtype=float32)]"
      ]
     },
     "execution_count": 19,
     "metadata": {},
     "output_type": "execute_result"
    }
   ],
   "source": [
    "val"
   ]
  },
  {
   "cell_type": "code",
   "execution_count": 20,
   "metadata": {
    "id": "Wk7VA4ctsPpj"
   },
   "outputs": [],
   "source": [
    "from math import *\n",
    "import math"
   ]
  },
  {
   "cell_type": "code",
   "execution_count": 21,
   "metadata": {
    "colab": {
     "base_uri": "https://localhost:8080/"
    },
    "id": "gjsY7XhZn0qR",
    "outputId": "e7ecf6cc-e348-4ac7-f5e4-a63c383df456"
   },
   "outputs": [
    {
     "name": "stdout",
     "output_type": "stream",
     "text": [
      "1913.8203273606948\n",
      "1924.2398571596063\n",
      "We can shoot\n"
     ]
    }
   ],
   "source": [
    "#Let Missile Location Coordinates\n",
    "traj_x = -16494\n",
    "traj_y = -7800\n",
    "traj_z = 200\n",
    "\n",
    "#Let prediction Location Coordinates\n",
    "traj1_x =-16387.025\n",
    "traj1_y = -9707.095\n",
    "traj1_z = 80.613\n",
    "\n",
    "#let Actual Cordinates of Air Object\n",
    "traj_currx = -14974\n",
    "traj_curry = -8651\n",
    "traj_currz = 207\n",
    "\n",
    "#Let Velocity of Target Shooting Missile\n",
    "\n",
    "initial_velocity = 410\n",
    "\n",
    "distance_x = traj_x - traj1_x\n",
    "distance_y = traj_y - traj1_y\n",
    "distance_z = traj_x - traj1_z\n",
    "\n",
    "theta = math.atan(distance_x / distance_y)\n",
    "phi = math.atan(distance_z / distance_x)\n",
    "\n",
    "#Let Acceleration Due To Gravity is\n",
    "g = 9.8\n",
    "\n",
    "#Time needed by Object to move at predicted Position\n",
    "\n",
    "Time_needed = 5\n",
    "\n",
    "#if (Time_needed_to reach predicted point == Time Needed by MIssile to hit the object) therfore we can shoot at that point of time.\n",
    "\n",
    "Distance = sqrt((traj1_x - traj_x)**2 + (traj1_y - traj_y)**2 + (traj1_z - traj_z)**2)\n",
    "print(Distance) \n",
    "print(initial_velocity * math.cos(theta)*math.sin(phi)*Time_needed - (0.5*g*((Time_needed)**2)))\n",
    "if abs(Distance - (initial_velocity * math.cos(theta)*math.sin(phi)*Time_needed - (0.5*g*((Time_needed)**2)))) <= 15:\n",
    "    print(\"We can shoot\")\n",
    "else:\n",
    "    print(\"Wait For the Next Interception\")\n",
    "    print(initial_velocity * math.cos(theta)*math.sin(phi)*Time_needed - (0.5*g*((Time_needed)**2)))\n"
   ]
  },
  {
   "cell_type": "code",
   "execution_count": null,
   "metadata": {
    "id": "_VEa0SrnsVPg"
   },
   "outputs": [],
   "source": []
  },
  {
   "cell_type": "code",
   "execution_count": null,
   "metadata": {},
   "outputs": [],
   "source": []
  }
 ],
 "metadata": {
  "colab": {
   "collapsed_sections": [],
   "name": "testing.ipynb",
   "provenance": []
  },
  "kernelspec": {
   "display_name": "Python 3",
   "language": "python",
   "name": "python3"
  },
  "language_info": {
   "codemirror_mode": {
    "name": "ipython",
    "version": 3
   },
   "file_extension": ".py",
   "mimetype": "text/x-python",
   "name": "python",
   "nbconvert_exporter": "python",
   "pygments_lexer": "ipython3",
   "version": "3.8.5"
  }
 },
 "nbformat": 4,
 "nbformat_minor": 4
}
