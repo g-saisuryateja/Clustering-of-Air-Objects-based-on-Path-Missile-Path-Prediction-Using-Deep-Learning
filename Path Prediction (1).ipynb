{
 "cells": [
  {
   "cell_type": "code",
   "execution_count": 2,
   "metadata": {
    "colab": {
     "base_uri": "https://localhost:8080/",
     "height": 423
    },
    "id": "LmbEGuwen2pR",
    "outputId": "86975fda-2fc7-407e-ac73-0c3d12a5f7ff"
   },
   "outputs": [
    {
     "data": {
      "text/html": [
       "<div>\n",
       "<style scoped>\n",
       "    .dataframe tbody tr th:only-of-type {\n",
       "        vertical-align: middle;\n",
       "    }\n",
       "\n",
       "    .dataframe tbody tr th {\n",
       "        vertical-align: top;\n",
       "    }\n",
       "\n",
       "    .dataframe thead th {\n",
       "        text-align: right;\n",
       "    }\n",
       "</style>\n",
       "<table border=\"1\" class=\"dataframe\">\n",
       "  <thead>\n",
       "    <tr style=\"text-align: right;\">\n",
       "      <th></th>\n",
       "      <th>Plane Number</th>\n",
       "      <th>Latitude</th>\n",
       "      <th>Longitude</th>\n",
       "      <th>Altitude</th>\n",
       "      <th>Velocity</th>\n",
       "      <th>Time</th>\n",
       "    </tr>\n",
       "  </thead>\n",
       "  <tbody>\n",
       "    <tr>\n",
       "      <th>0</th>\n",
       "      <td>0</td>\n",
       "      <td>-13594</td>\n",
       "      <td>-9455</td>\n",
       "      <td>27</td>\n",
       "      <td>82</td>\n",
       "      <td>0</td>\n",
       "    </tr>\n",
       "    <tr>\n",
       "      <th>1</th>\n",
       "      <td>0</td>\n",
       "      <td>-13925</td>\n",
       "      <td>-9255</td>\n",
       "      <td>71</td>\n",
       "      <td>82</td>\n",
       "      <td>4</td>\n",
       "    </tr>\n",
       "    <tr>\n",
       "      <th>2</th>\n",
       "      <td>0</td>\n",
       "      <td>-14265</td>\n",
       "      <td>-9055</td>\n",
       "      <td>117</td>\n",
       "      <td>84</td>\n",
       "      <td>8</td>\n",
       "    </tr>\n",
       "    <tr>\n",
       "      <th>3</th>\n",
       "      <td>0</td>\n",
       "      <td>-14615</td>\n",
       "      <td>-8853</td>\n",
       "      <td>163</td>\n",
       "      <td>86</td>\n",
       "      <td>13</td>\n",
       "    </tr>\n",
       "    <tr>\n",
       "      <th>4</th>\n",
       "      <td>0</td>\n",
       "      <td>-14974</td>\n",
       "      <td>-8651</td>\n",
       "      <td>207</td>\n",
       "      <td>88</td>\n",
       "      <td>17</td>\n",
       "    </tr>\n",
       "    <tr>\n",
       "      <th>...</th>\n",
       "      <td>...</td>\n",
       "      <td>...</td>\n",
       "      <td>...</td>\n",
       "      <td>...</td>\n",
       "      <td>...</td>\n",
       "      <td>...</td>\n",
       "    </tr>\n",
       "    <tr>\n",
       "      <th>100</th>\n",
       "      <td>0</td>\n",
       "      <td>17221</td>\n",
       "      <td>21366</td>\n",
       "      <td>5676</td>\n",
       "      <td>217</td>\n",
       "      <td>462</td>\n",
       "    </tr>\n",
       "    <tr>\n",
       "      <th>101</th>\n",
       "      <td>0</td>\n",
       "      <td>18214</td>\n",
       "      <td>21583</td>\n",
       "      <td>5731</td>\n",
       "      <td>217</td>\n",
       "      <td>467</td>\n",
       "    </tr>\n",
       "    <tr>\n",
       "      <th>102</th>\n",
       "      <td>0</td>\n",
       "      <td>19211</td>\n",
       "      <td>21802</td>\n",
       "      <td>5785</td>\n",
       "      <td>217</td>\n",
       "      <td>472</td>\n",
       "    </tr>\n",
       "    <tr>\n",
       "      <th>103</th>\n",
       "      <td>0</td>\n",
       "      <td>20212</td>\n",
       "      <td>22026</td>\n",
       "      <td>5836</td>\n",
       "      <td>217</td>\n",
       "      <td>476</td>\n",
       "    </tr>\n",
       "    <tr>\n",
       "      <th>104</th>\n",
       "      <td>0</td>\n",
       "      <td>21214</td>\n",
       "      <td>22257</td>\n",
       "      <td>5889</td>\n",
       "      <td>217</td>\n",
       "      <td>481</td>\n",
       "    </tr>\n",
       "  </tbody>\n",
       "</table>\n",
       "<p>105 rows × 6 columns</p>\n",
       "</div>"
      ],
      "text/plain": [
       "     Plane Number  Latitude   Longitude   Altitude   Velocity   Time \n",
       "0               0     -13594       -9455         27         82      0\n",
       "1               0     -13925       -9255         71         82      4\n",
       "2               0     -14265       -9055        117         84      8\n",
       "3               0     -14615       -8853        163         86     13\n",
       "4               0     -14974       -8651        207         88     17\n",
       "..            ...        ...         ...        ...        ...    ...\n",
       "100             0      17221       21366       5676        217    462\n",
       "101             0      18214       21583       5731        217    467\n",
       "102             0      19211       21802       5785        217    472\n",
       "103             0      20212       22026       5836        217    476\n",
       "104             0      21214       22257       5889        217    481\n",
       "\n",
       "[105 rows x 6 columns]"
      ]
     },
     "execution_count": 2,
     "metadata": {},
     "output_type": "execute_result"
    }
   ],
   "source": [
    "import pandas as pd\n",
    "dataset=pd.read_csv(\"G:/AIE/AIE SEM6/MIS-6/Project/CLUSTERING-OF-AIR-OBJECTS-BASED-ON-TRAJECTORY-and-missile-guidance-system-master/CLUSTERING-OF-AIR-OBJECTS-BASED-ON-TRAJECTORY-and-missile-guidance-system-master/data/abc2.csv\")\n",
    "dataset.head(105)"
   ]
  },
  {
   "cell_type": "code",
   "execution_count": 3,
   "metadata": {
    "colab": {
     "base_uri": "https://localhost:8080/"
    },
    "id": "LWCQwVmtoGac",
    "outputId": "0775958f-a447-44bd-b2f8-6a78bfaf4e17"
   },
   "outputs": [
    {
     "data": {
      "text/plain": [
       "0     13594\n",
       "1     13925\n",
       "2     14265\n",
       "3     14615\n",
       "4     14974\n",
       "5     15340\n",
       "6     15716\n",
       "7     16102\n",
       "8     16494\n",
       "9     16895\n",
       "10    17305\n",
       "11    17728\n",
       "12    18165\n",
       "13    18615\n",
       "14    19077\n",
       "15    19554\n",
       "16    20043\n",
       "17    20543\n",
       "18    21048\n",
       "19    21554\n",
       "20    22059\n",
       "21    22559\n",
       "22    23062\n",
       "23    23565\n",
       "24    24077\n",
       "25    24599\n",
       "26    25134\n",
       "27    25684\n",
       "28    26241\n",
       "29    26797\n",
       "30    27346\n",
       "31    27880\n",
       "32    28381\n",
       "33    28833\n",
       "34    29220\n",
       "35    29533\n",
       "36    29762\n",
       "37    29906\n",
       "38    29967\n",
       "39    29957\n",
       "40    29899\n",
       "41    29812\n",
       "42    29703\n",
       "43    29578\n",
       "44    29440\n",
       "45    29281\n",
       "46    29084\n",
       "47    28827\n",
       "48    28493\n",
       "49    28071\n",
       "Name: Latitude , dtype: int64"
      ]
     },
     "execution_count": 3,
     "metadata": {},
     "output_type": "execute_result"
    }
   ],
   "source": [
    "latitude=dataset.iloc[:50,1]\n",
    "latitude=latitude.abs()\n",
    "latitude"
   ]
  },
  {
   "cell_type": "code",
   "execution_count": 4,
   "metadata": {
    "colab": {
     "base_uri": "https://localhost:8080/"
    },
    "id": "uYi_QgVdoM1l",
    "outputId": "3d2d5034-ca5b-4fd1-8e4d-8cb6f0aa6b87"
   },
   "outputs": [
    {
     "data": {
      "text/plain": [
       "50"
      ]
     },
     "execution_count": 4,
     "metadata": {},
     "output_type": "execute_result"
    }
   ],
   "source": [
    "len(latitude)"
   ]
  },
  {
   "cell_type": "code",
   "execution_count": 31,
   "metadata": {
    "colab": {
     "base_uri": "https://localhost:8080/"
    },
    "id": "S9oqUfQooPO3",
    "outputId": "8c8502e2-17f4-4ce0-b6dd-0dadbb73abae"
   },
   "outputs": [],
   "source": [
    "import pandas as pd\n",
    "import numpy as np\n",
    "import matplotlib.pyplot as plt\n",
    "%matplotlib inline\n",
    "from datetime import timedelta\n",
    "from statsmodels.tsa.arima_model import ARIMA\n",
    "from keras.models import Sequential\n",
    "from keras.layers import Dense\n",
    "from keras.layers import LSTM,SimpleRNN\n",
    "from sklearn.preprocessing import MinMaxScaler\n",
    "from sklearn.metrics import r2_score,explained_variance_score,mean_absolute_error,mean_squared_error,mean_squared_log_error,median_absolute_error\n",
    "from scipy.ndimage.filters import gaussian_filter\n",
    "import matplotlib.dates as mdates"
   ]
  },
  {
   "cell_type": "code",
   "execution_count": 25,
   "metadata": {
    "id": "tp0lAn4wouPM"
   },
   "outputs": [],
   "source": [
    "def create_dataset(data_series, look_back, split_frac, transforms):\n",
    "    \n",
    "    # log transforming that data, if necessary\n",
    "    if transforms[0] == True:\n",
    "        dates = data_series.index\n",
    "        data_series = pd.Series(np.log(data_series), index=dates)\n",
    "    \n",
    "    # differencing data, if necessary\n",
    "    if transforms[1] == True:\n",
    "        dates = data_series.index\n",
    "        data_series = pd.Series(data_series - data_series.shift(1), index=dates).dropna()\n",
    "\n",
    "    # scaling values between 0 and 1\n",
    "    dates = data_series.index\n",
    "    scaler = MinMaxScaler(feature_range=(0, 1))\n",
    "    scaled_data = scaler.fit_transform(data_series.values.reshape(-1, 1))\n",
    "    data_series = pd.Series(scaled_data[:, 0], index=dates)\n",
    "    \n",
    "    # creating targets and features by shifting values by 'i' number of time periods\n",
    "    df = pd.DataFrame()\n",
    "    for i in range(look_back+1):\n",
    "        label = ''.join(['t-', str(i)])\n",
    "        df[label] = data_series.shift(i)\n",
    "    df = df.dropna()\n",
    "    print(\"printing df.tail\")\n",
    "    print(df.tail())\n",
    "    \n",
    "    # splitting data into train and test sets\n",
    "    size = int(split_frac*df.shape[0])\n",
    "    train = df[:size]\n",
    "    test = df[size:]\n",
    "    \n",
    "    # creating target and features for training set\n",
    "    X_train = train.iloc[:, 1:].values\n",
    "    y_train = train.iloc[:, 0].values\n",
    "    train_dates = train.index\n",
    "    \n",
    "    # creating target and features for test set\n",
    "    X_test = test.iloc[:, 1:].values\n",
    "    y_test = test.iloc[:, 0].values\n",
    "    test_dates = test.index\n",
    "    \n",
    "    # reshaping data into 3 dimensions for modeling with the LSTM neural net\n",
    "    X_train = np.reshape(X_train, (X_train.shape[0], 1, look_back))\n",
    "    X_test = np.reshape(X_test, (X_test.shape[0], 1, look_back))\n",
    "    \n",
    "    return X_train, y_train, X_test, y_test, train_dates, test_dates, scaler"
   ]
  },
  {
   "cell_type": "code",
   "execution_count": 26,
   "metadata": {
    "id": "JfDxi1NdpnwS"
   },
   "outputs": [],
   "source": [
    "def inverse_transforms(train_predict, y_train, test_predict, y_test, data_series, train_dates, test_dates, scaler):\n",
    "    \n",
    "    # inverse 0 to 1 scaling\n",
    "    train_predict = pd.Series(scaler.inverse_transform(train_predict.reshape(-1,1))[:,0], index=train_dates)\n",
    "    y_train = pd.Series(scaler.inverse_transform(y_train.reshape(-1, 1))[:,0], index=train_dates)\n",
    "\n",
    "    test_predict = pd.Series(scaler.inverse_transform(test_predict.reshape(-1, 1))[:,0], index=test_dates)\n",
    "    y_test = pd.Series(scaler.inverse_transform(y_test.reshape(-1, 1))[:,0], index=test_dates)\n",
    "    \n",
    "    # reversing differencing if log transformed as well\n",
    "    if (transforms[1] == True) & (transforms[0] == True):\n",
    "        train_predict = pd.Series(train_predict + np.log(data_series.shift(1)), index=train_dates).dropna()\n",
    "        y_train = pd.Series(y_train + np.log(data_series.shift(1)), index=train_dates).dropna()\n",
    "\n",
    "        test_predict = pd.Series(test_predict + np.log(data_series.shift(1)), index=test_dates).dropna()\n",
    "        y_test = pd.Series(y_test + np.log(data_series.shift(1)), index=test_dates).dropna()\n",
    "    \n",
    "    # reversing differencing if no log transform\n",
    "    elif transforms[1] == True:\n",
    "        train_predict = pd.Series(train_predict + data_series.shift(1), index=train_dates).dropna()\n",
    "        y_train = pd.Series(y_train + data_series.shift(1), index=train_dates).dropna()\n",
    "\n",
    "        test_predict = pd.Series(test_predict + data_series.shift(1), index=test_dates).dropna()\n",
    "        y_test = pd.Series(y_test + data_series.shift(1), index=test_dates).dropna()\n",
    "      \n",
    "    # reversing log transformation\n",
    "    if transforms[0] == True:\n",
    "        train_predict = pd.Series(np.exp(train_predict), index=train_dates)\n",
    "        y_train = pd.Series(np.exp(y_train), index=train_dates)\n",
    "\n",
    "        test_predict = pd.Series(np.exp(test_predict), index=test_dates)\n",
    "        y_test = pd.Series(np.exp(y_test), index=test_dates)\n",
    "        \n",
    "    return train_predict, y_train, test_predict, y_test"
   ]
  },
  {
   "cell_type": "markdown",
   "metadata": {},
   "source": [
    "# LSTM"
   ]
  },
  {
   "cell_type": "code",
   "execution_count": 32,
   "metadata": {
    "id": "9O2Gr8Ayprf_"
   },
   "outputs": [],
   "source": [
    "def lstm_model(data_series, look_back, split, transforms, lstm_params):\n",
    "    np.random.seed(1)\n",
    "    \n",
    "    # creating the training and testing datasets\n",
    "    X_train, y_train, X_test, y_test, train_dates, test_dates, scaler = create_dataset(data_series, look_back, split, transforms)\n",
    "\n",
    "    # training the model\n",
    "    model = Sequential()\n",
    "    model.add(SimpleRNN(lstm_params[0], input_shape=(1, look_back)))\n",
    "    model.add(Dense(1))\n",
    "    model.compile(loss='mean_squared_error', optimizer='adam')\n",
    "    model.fit(X_train, y_train, epochs=lstm_params[1], batch_size=1, verbose=lstm_params[2])\n",
    "    \n",
    "    # making predictions\n",
    "    train_predict = model.predict(X_train)\n",
    "    test_predict = model.predict(X_test)\n",
    "    \n",
    "    # inverse transforming results\n",
    "    train_predict, y_train, test_predict, y_test = \\\n",
    "    inverse_transforms(train_predict, y_train, test_predict, y_test, data_series, train_dates, test_dates, scaler)\n",
    "    \n",
    "    # plot of predictions and actual values\n",
    "    fig = plt.figure()\n",
    "    ax = fig.add_subplot(111)\n",
    "    #myFmt = mdates.DateFormatter('%m%/%y')\n",
    "    #ax.xaxis.set_major_formatter(myFmt)\n",
    "    plt.plot(y_test)\n",
    "    plt.plot(test_predict, color='red')\n",
    "    plt.show()\n",
    "    \n",
    "    # calculating RMSE metrics\n",
    "    error = np.sqrt(mean_squared_error(train_predict, y_train))\n",
    "    print('Train RMSE: %.3f' % error)\n",
    "    error = np.sqrt(mean_squared_error(test_predict, y_test))\n",
    "    print('Test RMSE: %.3f' % error)\n",
    "    print(\"r2 score:\" ,r2_score(test_predict,y_test))\n",
    "    print(\"Explained Variance Score:\", explained_variance_score(test_predict,y_test))\n",
    "    print(\"Mean Absolute Error:\", mean_absolute_error(test_predict,y_test))\n",
    "    print(\"Mean absolute error:\", median_absolute_error(test_predict,y_test))\n",
    "    return train_predict, y_train, test_predict, y_test"
   ]
  },
  {
   "cell_type": "code",
   "execution_count": 36,
   "metadata": {
    "colab": {
     "base_uri": "https://localhost:8080/",
     "height": 428
    },
    "id": "MEOjTVqzpyb2",
    "outputId": "90d29207-c13c-4854-886c-b29dc23b99a7"
   },
   "outputs": [
    {
     "name": "stdout",
     "output_type": "stream",
     "text": [
      "printing df.tail\n",
      "         t-0       t-1\n",
      "45  0.239919  0.258569\n",
      "46  0.206221  0.239919\n",
      "47  0.152586  0.206221\n",
      "48  0.082466  0.152586\n",
      "49  0.000000  0.082466\n",
      "Epoch 1/8\n",
      "33/33 [==============================] - 1s 2ms/step - loss: 2.4155\n",
      "Epoch 2/8\n",
      "33/33 [==============================] - 0s 2ms/step - loss: 1.8869\n",
      "Epoch 3/8\n",
      "33/33 [==============================] - 0s 3ms/step - loss: 1.4754\n",
      "Epoch 4/8\n",
      "33/33 [==============================] - 0s 3ms/step - loss: 1.1577\n",
      "Epoch 5/8\n",
      "33/33 [==============================] - 0s 2ms/step - loss: 0.9070\n",
      "Epoch 6/8\n",
      "33/33 [==============================] - 0s 3ms/step - loss: 0.7071\n",
      "Epoch 7/8\n",
      "33/33 [==============================] - 0s 2ms/step - loss: 0.5434\n",
      "Epoch 8/8\n",
      "33/33 [==============================] - 0s 2ms/step - loss: 0.4096\n"
     ]
    },
    {
     "data": {
      "image/png": "[encoded data removed]",
      "text/plain": [
       "<Figure size 432x288 with 1 Axes>"
      ]
     },
     "metadata": {
      "needs_background": "light"
     },
     "output_type": "display_data"
    },
    {
     "name": "stdout",
     "output_type": "stream",
     "text": [
      "Train RMSE: 482.546\n",
      "Test RMSE: 285.125\n",
      "r2 score: 0.5277969092089421\n",
      "Explained Variance Score: 0.7030225490298575\n",
      "Mean Absolute Error: 248.31489109742083\n",
      "Mean absolute error: 237.28688943957604\n"
     ]
    }
   ],
   "source": [
    "look_back = 1\n",
    "split = 0.7\n",
    "log = True\n",
    "difference = True\n",
    "transforms = [log, difference]\n",
    "\n",
    "nodes = 4\n",
    "epochs = 8\n",
    "verbose = 1 # 0=print no output, 1=most, 2=less, 3=least\n",
    "lstm_params = [nodes, epochs, verbose]\n",
    "\n",
    "train_predict, y_train, test_predict, y_test = lstm_model(latitude, look_back, split, transforms, lstm_params)\n"
   ]
  },
  {
   "cell_type": "code",
   "execution_count": 37,
   "metadata": {
    "id": "Z_g3zg2-DZz6"
   },
   "outputs": [
    {
     "name": "stdout",
     "output_type": "stream",
     "text": [
      "printing df.tail\n",
      "         t-0       t-1\n",
      "45  0.239919  0.258569\n",
      "46  0.206221  0.239919\n",
      "47  0.152586  0.206221\n",
      "48  0.082466  0.152586\n",
      "49  0.000000  0.082466\n",
      "Epoch 1/7\n",
      "33/33 [==============================] - 1s 2ms/step - loss: 0.2109\n",
      "Epoch 2/7\n",
      "33/33 [==============================] - 0s 2ms/step - loss: 0.0835\n",
      "Epoch 3/7\n",
      "33/33 [==============================] - 0s 3ms/step - loss: 0.0256\n",
      "Epoch 4/7\n",
      "33/33 [==============================] - 0s 3ms/step - loss: 0.0066\n",
      "Epoch 5/7\n",
      "33/33 [==============================] - 0s 2ms/step - loss: 0.0021\n",
      "Epoch 6/7\n",
      "33/33 [==============================] - 0s 2ms/step - loss: 0.0015\n",
      "Epoch 7/7\n",
      "33/33 [==============================] - 0s 2ms/step - loss: 0.0015\n"
     ]
    },
    {
     "data": {
      "image/png": "[encoded data removed]",
      "text/plain": [
       "<Figure size 432x288 with 1 Axes>"
      ]
     },
     "metadata": {
      "needs_background": "light"
     },
     "output_type": "display_data"
    },
    {
     "name": "stdout",
     "output_type": "stream",
     "text": [
      "Train RMSE: 39.928\n",
      "Test RMSE: 290.032\n",
      "r2 score: 0.6897147082861652\n",
      "Explained Variance Score: 0.9922413382881218\n",
      "Mean Absolute Error: 286.3826107080698\n",
      "Mean absolute error: 280.2883588993791\n"
     ]
    }
   ],
   "source": [
    "look_back = 1\n",
    "split = 0.7\n",
    "log = True\n",
    "difference = True\n",
    "transforms = [log, difference]\n",
    "\n",
    "nodes = 4\n",
    "epochs = 7\n",
    "verbose = 1 # 0=print no output, 1=most, 2=less, 3=least\n",
    "lstm_params = [nodes, epochs, verbose]\n",
    "\n",
    "train_predict, y_train, test_predict, y_test = lstm_model(latitude, look_back, split, transforms, lstm_params)\n"
   ]
  },
  {
   "cell_type": "code",
   "execution_count": null,
   "metadata": {},
   "outputs": [],
   "source": []
  }
 ],
 "metadata": {
  "colab": {
   "name": "Trajectory.ipynb",
   "provenance": []
  },
  "kernelspec": {
   "display_name": "Python 3",
   "language": "python",
   "name": "python3"
  },
  "language_info": {
   "codemirror_mode": {
    "name": "ipython",
    "version": 3
   },
   "file_extension": ".py",
   "mimetype": "text/x-python",
   "name": "python",
   "nbconvert_exporter": "python",
   "pygments_lexer": "ipython3",
   "version": "3.8.5"
  }
 },
 "nbformat": 4,
 "nbformat_minor": 4
}
